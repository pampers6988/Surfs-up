{
 "cells": [
  {
   "cell_type": "code",
   "execution_count": 147,
   "metadata": {},
   "outputs": [],
   "source": [
    "# Dependencies\n",
    "%matplotlib inline\n",
    "from matplotlib import style\n",
    "style.use('fivethirtyeight')\n",
    "import matplotlib.pyplot as plt\n",
    "\n",
    "import numpy as np\n",
    "import pandas as pd\n",
    "import datetime as dt\n",
    "\n",
    "# Python SQL toolkit and Object Relational Mapper\n",
    "import sqlalchemy\n",
    "from sqlalchemy.ext.automap import automap_base\n",
    "from sqlalchemy.orm import Session\n",
    "from sqlalchemy import create_engine, func"
   ]
  },
  {
   "cell_type": "code",
   "execution_count": 148,
   "metadata": {},
   "outputs": [],
   "source": [
    "# Create Engine to the local Sqlite database\n",
    "engine = create_engine(\"sqlite:///hawaii.sqlite\")\n",
    "Base = automap_base()"
   ]
  },
  {
   "cell_type": "code",
   "execution_count": 106,
   "metadata": {},
   "outputs": [],
   "source": [
    "# reflect an existing database into a new model\n",
    "Base = automap_base()\n",
    "# reflect the tables\n",
    "Base.prepare(engine, reflect=True)"
   ]
  },
  {
   "cell_type": "code",
   "execution_count": 107,
   "metadata": {},
   "outputs": [],
   "source": [
    "#Create our session (link) from Python to the DB\n",
    "session = Session(engine)"
   ]
  },
  {
   "cell_type": "code",
   "execution_count": 108,
   "metadata": {},
   "outputs": [
    {
     "data": {
      "text/plain": [
       "['measurement', 'station']"
      ]
     },
     "execution_count": 108,
     "metadata": {},
     "output_type": "execute_result"
    }
   ],
   "source": [
    "Base.classes.keys()"
   ]
  },
  {
   "cell_type": "code",
   "execution_count": 109,
   "metadata": {},
   "outputs": [],
   "source": [
    "Measurement = Base.classes.measurement\n",
    "Station = Base.classes.station"
   ]
  },
  {
   "cell_type": "code",
   "execution_count": 110,
   "metadata": {},
   "outputs": [],
   "source": [
    "# Create our session (link) from Python to the DB\n",
    "session = Session(engine)\n"
   ]
  },
  {
   "cell_type": "markdown",
   "metadata": {},
   "source": [
    "## D1: Determine the Summary Statistics for June"
   ]
  },
  {
   "cell_type": "code",
   "execution_count": 119,
   "metadata": {},
   "outputs": [],
   "source": [
    "# 1. Import the sqlalchemy extract function.\n",
    "from sqlalchemy import extract"
   ]
  },
  {
   "cell_type": "code",
   "execution_count": 165,
   "metadata": {},
   "outputs": [
    {
     "name": "stdout",
     "output_type": "stream",
     "text": [
      "                  date  tobs\n",
      "date                        \n",
      "2010-01-01  2010-01-01  65.0\n",
      "2010-01-02  2010-01-02  63.0\n",
      "2010-01-03  2010-01-03  74.0\n",
      "2010-01-04  2010-01-04  76.0\n",
      "2010-01-06  2010-01-06  73.0\n",
      "...                ...   ...\n",
      "2017-08-19  2017-08-19  71.0\n",
      "2017-08-20  2017-08-20  78.0\n",
      "2017-08-21  2017-08-21  76.0\n",
      "2017-08-22  2017-08-22  76.0\n",
      "2017-08-23  2017-08-23  76.0\n",
      "\n",
      "[19550 rows x 2 columns]\n",
      "June\n",
      "              tobs\n",
      "count  1700.000000\n",
      "mean     74.944118\n",
      "std       3.257417\n",
      "min      64.000000\n",
      "25%      73.000000\n",
      "50%      75.000000\n",
      "75%      77.000000\n",
      "max      85.000000\n"
     ]
    },
    {
     "data": {
      "image/png": "[encoded data removed]",
      "text/plain": [
       "<Figure size 432x288 with 1 Axes>"
      ]
     },
     "metadata": {},
     "output_type": "display_data"
    }
   ],
   "source": [
    "#setting the date range variables to encompass all data\n",
    "first_date = dt.date(2010, 1, 1)\n",
    "last_date = dt.date(2017, 8, 23)\n",
    "\n",
    "# 2. Write a query that filters the Measurement table to retrieve the temperatures for the month of June. \n",
    "results = []\n",
    "results = session.query(Measurement.date, Measurement.tobs)\n",
    "#print(results.all())\n",
    "\n",
    "# Save the query results as a Pandas DataFrame and set the index to the date column\n",
    "df = pd.DataFrame(results, columns=['date','tobs'])\n",
    "df.set_index(df['date'], inplace=True)\n",
    "#print(df.to_string(index=False))\n",
    "print(df)\n",
    "# Sort the dataframe by date\n",
    "df = df.sort_index()\n",
    "#print(df['date'].dtype)\n",
    "\n",
    "#converting dtype (object) of date dtype to dateime64\n",
    "df['date'] = pd.to_datetime(df['date'])\n",
    "#print(df['date'].dtype)\n",
    "\n",
    "#create June dataframe and filter out nan\n",
    "june_df = df[df['date'].dt.month==6]\n",
    "junefil_df = june_df[~np.isnan(june_df['tobs'])]\n",
    "\n",
    "#describe function for objective on statistics\n",
    "print ('June')\n",
    "print(junefil_df.describe())\n",
    "\n",
    "#plotting it out\n",
    "junefil_df.boxplot(column='tobs', showfliers=False).set_title('June Temperature')\n",
    "plt.show()\n"
   ]
  },
  {
   "cell_type": "markdown",
   "metadata": {},
   "source": [
    "## D2: Determine the Summary Statistics for December"
   ]
  },
  {
   "cell_type": "code",
   "execution_count": 166,
   "metadata": {},
   "outputs": [
    {
     "name": "stdout",
     "output_type": "stream",
     "text": [
      "                 date  tobs\n",
      "date                       \n",
      "2010-01-01 2010-01-01  65.0\n",
      "2010-01-01 2010-01-01  72.0\n",
      "2010-01-01 2010-01-01  75.0\n",
      "2010-01-01 2010-01-01  70.0\n",
      "2010-01-01 2010-01-01  66.0\n",
      "...               ...   ...\n",
      "2017-08-22 2017-08-22  76.0\n",
      "2017-08-23 2017-08-23  81.0\n",
      "2017-08-23 2017-08-23  82.0\n",
      "2017-08-23 2017-08-23  82.0\n",
      "2017-08-23 2017-08-23  76.0\n",
      "\n",
      "[19550 rows x 2 columns]\n",
      "December\n",
      "              tobs\n",
      "count  1517.000000\n",
      "mean     71.041529\n",
      "std       3.745920\n",
      "min      56.000000\n",
      "25%      69.000000\n",
      "50%      71.000000\n",
      "75%      74.000000\n",
      "max      83.000000\n"
     ]
    },
    {
     "data": {
      "image/png": "[encoded data removed]",
      "text/plain": [
       "<Figure size 432x288 with 1 Axes>"
      ]
     },
     "metadata": {},
     "output_type": "display_data"
    }
   ],
   "source": [
    "#setting the date range variables to encompass all data that we have\n",
    "first_date = dt.date(2010, 1, 1)\n",
    "last_date = dt.date(2017, 8, 23)\n",
    "\n",
    "# Perform a query to retrieve the data and precipitation scores\n",
    "results = []\n",
    "results = session.query(Measurement.date, Measurement.tobs)\n",
    "#print(results.all())\n",
    "# Save the query results as a Pandas DataFrame and set the index to the date column\n",
    "df = pd.DataFrame(results, columns=['date','tobs'])\n",
    "df.set_index(df['date'], inplace=True)\n",
    "#print(df.to_string(index=False))\n",
    "\n",
    "# Sort the dataframe by date\n",
    "df = df.sort_index()\n",
    "#print(df['date'].dtype)\n",
    "\n",
    "#converting dtype (object) of date dtype to dateime64\n",
    "df['date'] = pd.to_datetime(df['date'])\n",
    "#print(df['date'].dtype)\n",
    "print(df)\n",
    "#create December dataframe and filter out nan\n",
    "dec_df = df[df['date'].dt.month==12]\n",
    "decfil_df = dec_df[~np.isnan(dec_df['tobs'])]\n",
    "\n",
    "#describe function for objective on statistics\n",
    "print ('December')\n",
    "print(decfil_df.describe())\n",
    "\n",
    "#plotting it out\n",
    "decfil_df.boxplot(column='tobs', showfliers=False).set_title('December Temperature')\n",
    "plt.show()"
   ]
  }
 ],
 "metadata": {
  "kernelspec": {
   "display_name": "Python 3",
   "language": "python",
   "name": "python3"
  },
  "language_info": {
   "codemirror_mode": {
    "name": "ipython",
    "version": 3
   },
   "file_extension": ".py",
   "mimetype": "text/x-python",
   "name": "python",
   "nbconvert_exporter": "python",
   "pygments_lexer": "ipython3",
   "version": "3.8.8"
  }
 },
 "nbformat": 4,
 "nbformat_minor": 2
}
